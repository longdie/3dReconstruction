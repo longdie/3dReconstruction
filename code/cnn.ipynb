{
 "cells": [
  {
   "cell_type": "markdown",
   "metadata": {},
   "source": [
    "# CNN代码实现\n",
    "## Framework\n",
    "input: 480 * 480 *3 image\n",
    "\n",
    "output: 4*1 vector\n",
    "\n",
    "model: resnet50\n",
    "\n",
    "loss function: MSE Loss\n",
    "\n",
    "optimizer: Adam"
   ]
  },
  {
   "cell_type": "code",
   "execution_count": 1,
   "metadata": {},
   "outputs": [
    {
     "name": "stderr",
     "output_type": "stream",
     "text": [
      "/media/ps/Work/anaconda3/envs/nerf_env/lib/python3.9/site-packages/tqdm/auto.py:21: TqdmWarning: IProgress not found. Please update jupyter and ipywidgets. See https://ipywidgets.readthedocs.io/en/stable/user_install.html\n",
      "  from .autonotebook import tqdm as notebook_tqdm\n"
     ]
    }
   ],
   "source": [
    "# 调用相关python库\n",
    "\n",
    "import torch\n",
    "import torch.nn as nn\n",
    "import torch.optim as optim\n",
    "from torchvision import datasets, transforms\n",
    "from torch.utils.data import DataLoader\n",
    "import torchvision.models as models\n",
    "from torch.utils.data import Dataset\n",
    "from torchvision import transforms\n",
    "\n",
    "import os\n",
    "import numpy as np\n",
    "from PIL import Image\n"
   ]
  },
  {
   "cell_type": "code",
   "execution_count": 2,
   "metadata": {},
   "outputs": [
    {
     "name": "stdout",
     "output_type": "stream",
     "text": [
      "cuda\n"
     ]
    }
   ],
   "source": [
    "# 确保GPU可以正常使用\n",
    "\n",
    "device = torch.device(\"cuda\" if torch.cuda.is_available() else \"cpu\")\n",
    "print(device)"
   ]
  },
  {
   "cell_type": "code",
   "execution_count": 4,
   "metadata": {},
   "outputs": [],
   "source": [
    "# 定义CNN模型\n",
    "class BuildingParamNet(nn.Module):\n",
    "    def __init__(self, output_dim=4):\n",
    "        super(BuildingParamNet, self).__init__()\n",
    "        self.backbone = models.resnet50(pretrained=True)\n",
    "        num_features = self.backbone.fc.in_features\n",
    "        self.backbone.fc = nn.Identity()  # 移除最后的全连接层\n",
    "        \n",
    "        self.fc = nn.Sequential(\n",
    "            nn.Linear(num_features, 512),\n",
    "            nn.ReLU(),\n",
    "            nn.Linear(512, output_dim)  # 输出维度为 4\n",
    "        )\n",
    "    \n",
    "    def forward(self, x):\n",
    "        x = self.backbone(x)\n",
    "        x = self.fc(x)\n",
    "        return x      # 返回输出"
   ]
  },
  {
   "cell_type": "code",
   "execution_count": 3,
   "metadata": {},
   "outputs": [],
   "source": [
    "# 超参数设置\n",
    "batch_size = 16 # 批量大小\n",
    "num_epochs = 30 # 迭代次数\n",
    "learning_rate = 1e-4\n",
    "output_dim = 4  # [a, b, c, d]"
   ]
  },
  {
   "cell_type": "code",
   "execution_count": 5,
   "metadata": {},
   "outputs": [],
   "source": [
    "# data process\n",
    "\n",
    "class CustomDataset(Dataset):\n",
    "    def __init__(self, image_folder, transform=None):\n",
    "        self.image_folder = image_folder\n",
    "        self.transform = transform\n",
    "        self.image_files = [f for f in os.listdir(image_folder) if f.endswith('.jpg')]  # 读取 JPG 文件\n",
    "\n",
    "    def __len__(self):\n",
    "        return len(self.image_files)\n",
    "\n",
    "    def __getitem__(self, idx):\n",
    "        image_name = self.image_files[idx]\n",
    "        image_path = os.path.join(self.image_folder, image_name)\n",
    "\n",
    "        # 读取图像\n",
    "        image = Image.open(image_path).convert(\"RGB\")\n",
    "        \n",
    "        # 读取对应的参数矩阵\n",
    "        param_path = image_path.replace('.jpg', '.npy')  # 假设参数文件是 .npy 格式\n",
    "        params = np.load(param_path)  # 加载参数矩阵\n",
    "\n",
    "        if self.transform:\n",
    "            image = self.transform(image)\n",
    "\n",
    "        return image, torch.tensor(params, dtype=torch.float32)\n",
    "\n",
    "# 图片格式设置\n",
    "transform = transforms.Compose([\n",
    "    transforms.Resize((256, 256)),  # 调整图片像素大小\n",
    "    transforms.ToTensor(),  # 转换为Tensor\n",
    "])\n",
    "\n",
    "# 设置数据集目录\n",
    "path_to_train_dataset = '/home/sjtu_dzn/Project/data/easy/train_dataset'\n",
    "path_to_test_dataset = '/home/sjtu_dzn/Project/data/easy/test_dataset'\n",
    "\n",
    "# 加载数据\n",
    "train_dataset = CustomDataset(path_to_train_dataset, transform=transform)\n",
    "test_dataset = CustomDataset(path_to_test_dataset, transform=transform)\n",
    "\n",
    "# 创建数据加载器:\n",
    "train_loader = DataLoader(train_dataset, batch_size=batch_size, shuffle=True)\n",
    "test_loader = DataLoader(test_dataset, batch_size=batch_size, shuffle=False)"
   ]
  },
  {
   "cell_type": "code",
   "execution_count": 11,
   "metadata": {},
   "outputs": [
    {
     "name": "stdout",
     "output_type": "stream",
     "text": [
      "beginning:\n",
      "Epoch [1/30], Loss: 1.8589\n",
      "Epoch [2/30], Loss: 0.2976\n",
      "Epoch [3/30], Loss: 0.1190\n",
      "Epoch [4/30], Loss: 0.0703\n",
      "Epoch [5/30], Loss: 0.0926\n",
      "Epoch [6/30], Loss: 0.1138\n",
      "Epoch [7/30], Loss: 0.0748\n",
      "Epoch [8/30], Loss: 0.0534\n",
      "Epoch [9/30], Loss: 0.0560\n",
      "Epoch [10/30], Loss: 0.0634\n",
      "Epoch [11/30], Loss: 0.0860\n",
      "Epoch [12/30], Loss: 0.1044\n",
      "Epoch [13/30], Loss: 0.0546\n",
      "Epoch [14/30], Loss: 0.0692\n",
      "Epoch [15/30], Loss: 0.0453\n",
      "Epoch [16/30], Loss: 0.0583\n",
      "Epoch [17/30], Loss: 0.0686\n",
      "Epoch [18/30], Loss: 0.0488\n",
      "Epoch [19/30], Loss: 0.0443\n",
      "Epoch [20/30], Loss: 0.0494\n",
      "Epoch [21/30], Loss: 0.0489\n",
      "Epoch [22/30], Loss: 0.0642\n",
      "Epoch [23/30], Loss: 0.0603\n",
      "Epoch [24/30], Loss: 0.0610\n",
      "Epoch [25/30], Loss: 0.0563\n",
      "Epoch [26/30], Loss: 0.0480\n",
      "Epoch [27/30], Loss: 0.0441\n",
      "Epoch [28/30], Loss: 0.0331\n",
      "Epoch [29/30], Loss: 0.0438\n",
      "Epoch [30/30], Loss: 0.0429\n"
     ]
    }
   ],
   "source": [
    "## train stage\n",
    "\n",
    "# 设备配置\n",
    "device = torch.device(\"cuda\" if torch.cuda.is_available() else \"cpu\")\n",
    "\n",
    "# 初始化模型并移动到 GPU\n",
    "model = BuildingParamNet(output_dim=4).to(device)\n",
    "\n",
    "# 初始化损失函数和优化器\n",
    "criterion = nn.MSELoss()\n",
    "optimizer = optim.Adam(model.parameters(), lr=learning_rate)\n",
    "\n",
    "print(\"beginning:\")\n",
    "# 训练模型\n",
    "model.train()\n",
    "for epoch in range(num_epochs):\n",
    "    running_loss = 0.0\n",
    "    for images, params in train_loader:\n",
    "        images, params = images.to(device), params.to(device)  # 移动到 GPU\n",
    "        # 调整 params 的形状以匹配 outputs\n",
    "        params = params.squeeze(-1)  # 移除最后一个维度\n",
    "        optimizer.zero_grad()\n",
    "        outputs = model(images)\n",
    "        # print(\"Output shape:\", outputs.shape)\n",
    "        # print(\"Params shape:\", params.shape)\n",
    "        loss = criterion(outputs, params)\n",
    "        loss.backward()\n",
    "        optimizer.step()\n",
    "        running_loss += loss.item()\n",
    "    \n",
    "    print(f\"Epoch [{epoch+1}/{num_epochs}], Loss: {running_loss/len(train_loader):.4f}\")\n",
    "    \n",
    "    torch.cuda.empty_cache() # 每次循环结束释放缓存，节省GPU资源"
   ]
  },
  {
   "cell_type": "code",
   "execution_count": 20,
   "metadata": {},
   "outputs": [
    {
     "name": "stdout",
     "output_type": "stream",
     "text": [
      "answer: tensor([[ 3.0336,  3.0618,  2.0173,  1.9724],\n",
      "        [ 3.9022,  3.0386,  1.0618,  1.9242],\n",
      "        [ 1.9409,  3.1155,  0.9223,  0.9951],\n",
      "        [ 3.9559,  1.0257,  1.0752,  1.9180],\n",
      "        [ 3.9497,  3.0367,  2.0532,  1.9236],\n",
      "        [ 1.9916,  1.0480,  0.9545,  0.9963],\n",
      "        [ 4.0121,  1.0376,  2.0935,  1.8889],\n",
      "        [ 1.9893,  2.1156,  0.9444,  2.0306],\n",
      "        [ 2.9330,  3.0469,  1.9742,  0.8893],\n",
      "        [ 2.0240,  2.1179,  1.9953,  0.9513],\n",
      "        [ 4.0518,  2.0171,  2.0520,  0.8875],\n",
      "        [ 2.0558,  2.2205,  0.9325,  1.0128],\n",
      "        [ 1.8926,  3.1019,  0.9325,  2.0664],\n",
      "        [ 4.0403,  2.0730,  1.0188,  0.9103],\n",
      "        [ 1.9082,  0.0234,  1.8715, -0.0762],\n",
      "        [ 2.0174,  0.0366,  0.9140, -0.0255]], device='cuda:0')\n",
      "answer: tensor([[4.0039, 2.0648, 2.0840, 1.9127],\n",
      "        [3.9989, 3.0092, 2.0302, 0.8767],\n",
      "        [3.0146, 1.0732, 0.9622, 0.9418],\n",
      "        [2.0019, 3.1205, 1.9852, 0.9637],\n",
      "        [3.0366, 1.0178, 1.9979, 0.9001],\n",
      "        [1.9465, 3.1065, 1.9468, 1.9663],\n",
      "        [2.9528, 3.0608, 0.9638, 0.9336],\n",
      "        [2.0144, 2.1673, 2.0055, 2.0393],\n",
      "        [3.0441, 2.0585, 2.0021, 0.8957],\n",
      "        [3.0606, 1.9988, 1.0264, 2.0039],\n",
      "        [3.9479, 2.0010, 1.0319, 1.8940],\n",
      "        [2.9843, 1.0107, 1.0214, 1.9636],\n",
      "        [3.9697, 2.9968, 1.0160, 0.9172],\n",
      "        [2.9677, 2.1173, 1.9345, 1.9114],\n",
      "        [4.0274, 1.0738, 1.0272, 0.9082],\n",
      "        [4.0186, 1.0692, 2.0258, 0.9025]], device='cuda:0')\n",
      "answer: tensor([[1.9534, 0.9057, 2.0233, 1.0058],\n",
      "        [1.9910, 0.9393, 2.0768, 1.9905],\n",
      "        [3.0080, 1.0293, 2.0430, 1.9182],\n",
      "        [2.0380, 1.0148, 0.9984, 2.0153],\n",
      "        [3.0154, 2.1366, 1.0209, 0.9525],\n",
      "        [2.9767, 3.0601, 0.9986, 2.0183]], device='cuda:0')\n",
      "Test Loss: 0.0037\n"
     ]
    }
   ],
   "source": [
    "# 测试模型\n",
    "model.eval()\n",
    "total_loss = 0.0 # 总损失\n",
    "\n",
    "with torch.no_grad():\n",
    "    for images, params in test_loader:\n",
    "        images = images.to(device)  # 将输入数据移动到 GPU\n",
    "        params = params.to(device)  # 同样将目标参数移动到 GPU\n",
    "        # 调整 params 的形状以匹配 outputs\n",
    "        params = params.squeeze(-1)  # 移除最后一个维度\n",
    "        outputs = model(images)\n",
    "        print(\"answer:\", outputs)\n",
    "        loss = criterion(outputs, params)  # 确保目标参数形状正确\n",
    "        total_loss += loss.item()\n",
    "\n",
    "print(f\"Test Loss: {total_loss/len(test_loader):.4f}\")"
   ]
  },
  {
   "cell_type": "code",
   "execution_count": null,
   "metadata": {},
   "outputs": [],
   "source": [
    "## 保存模型\n",
    "model_pth = \"/home/sjtu_dzn/Project/model/cnn.pth\"\n",
    "torch.save(model.state_dict(), model_pth)\n"
   ]
  }
 ],
 "metadata": {
  "kernelspec": {
   "display_name": "nerf_env",
   "language": "python",
   "name": "python3"
  },
  "language_info": {
   "codemirror_mode": {
    "name": "ipython",
    "version": 3
   },
   "file_extension": ".py",
   "mimetype": "text/x-python",
   "name": "python",
   "nbconvert_exporter": "python",
   "pygments_lexer": "ipython3",
   "version": "3.9.19"
  }
 },
 "nbformat": 4,
 "nbformat_minor": 2
}
